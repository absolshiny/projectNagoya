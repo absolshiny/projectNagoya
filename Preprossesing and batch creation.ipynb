{
 "cells": [
  {
   "cell_type": "code",
   "execution_count": 2,
   "metadata": {},
   "outputs": [],
   "source": [
    "import numpy as np\n",
    "import cv2 as cv\n",
    "from os import listdir\n",
    "from os.path import isfile, join\n",
    "import matplotlib.pyplot as plt"
   ]
  },
  {
   "cell_type": "code",
   "execution_count": 3,
   "metadata": {},
   "outputs": [
    {
     "name": "stdout",
     "output_type": "stream",
     "text": [
      "['03', '09', '06', '04', '02', '10', '00', '01', '05', '08', '07'] 11\n"
     ]
    }
   ],
   "source": [
    "frames= \"/media/david/ssd1/dataset/kitti/odometry/dataset/depth_maps\"\n",
    "trajectories=\"/media/david/ssd1/dataset/kitti/odometry/dataset/trajectories/\"\n",
    "print (listdir(frames),len(listdir(frames)))"
   ]
  },
  {
   "cell_type": "code",
   "execution_count": 4,
   "metadata": {},
   "outputs": [],
   "source": [
    "def Euler2Quaternion(roll,pitch,yaw):\n",
    "    cy = np.cos(yaw * 0.5);\n",
    "    sy = np.sin(yaw * 0.5);\n",
    "    cp = np.cos(pitch * 0.5);\n",
    "    sp = np.sin(pitch * 0.5);\n",
    "    cr = np.cos(roll * 0.5);\n",
    "    sr = np.sin(roll * 0.5);\n",
    "\n",
    "    w = cy * cp * cr + sy * sp * sr;\n",
    "    x = cy * cp * sr - sy * sp * cr;\n",
    "    y = sy * cp * sr + cy * sp * cr;\n",
    "    z = sy * cp * cr - cy * sp * sr;\n",
    "\n",
    "    return np.array([w,x,y,z])\n",
    "\n",
    "def Hamiltonmult(quat1,quat2):\n",
    "    return np.array([quat1[0]*quat2[0]-quat1[1]*quat2[1]-quat1[2]*quat2[2]-quat1[3]*quat2[3],\n",
    "                     quat1[0]*quat2[1]+quat1[1]*quat2[0]+quat1[2]*quat2[3]-quat1[3]*quat2[2],\n",
    "                     quat1[0]*quat2[2]-quat1[1]*quat2[3]+quat1[2]*quat2[0]+quat1[3]*quat2[1],\n",
    "                     quat1[0]*quat2[3]+quat1[1]*quat2[2]-quat1[2]*quat2[1]+quat1[3]*quat2[0]])"
   ]
  },
  {
   "cell_type": "code",
   "execution_count": 5,
   "metadata": {},
   "outputs": [],
   "source": [
    "X=listdir(frames)\n",
    "X.sort()\n",
    "C=1\n",
    "C2=1\n",
    "for route in X:\n",
    "    directions=np.loadtxt(trajectories+route+\".txt\")\n",
    "    translations=directions [:,1:4]\n",
    "    rotations=directions [:,4:]\n",
    "    Quat= np.array([Euler2Quaternion(phi,theta,psi) for phi,theta,psi in rotations])\n",
    "    DltaT= translations[1:] - translations[:-1]\n",
    "    ConQuat= Quat*[1,-1,-1,-1]\n",
    "    DltaR=np.array([[0,0,0,0]])\n",
    "    \n",
    "    for i in range (1,len(Quat),1):\n",
    "        dlta= np.array([Hamiltonmult(Quat[i],ConQuat[i-1])])\n",
    "        DltaR=np.append(DltaR,dlta,axis=0)\n",
    "    DltaR=np.delete(DltaR,0,axis=0)\n",
    "    \n",
    "    Dm_list=[f for f in listdir(frames+\"/\"+route) if f.startswith(\"depth_map_\")]\n",
    "    Dm_list=sorted(Dm_list,key=lambda name: int(name[10:-4]))\n",
    "    \n",
    "    Itsty_list=[f for f in listdir(frames+\"/\"+route) if f.startswith(\"intensity_map_\")]\n",
    "    Itsty_list=sorted(Itsty_list,key=lambda name: int(name[14:-4]))\n",
    "    \n",
    "    lbl_list=[f for f in listdir(frames+\"/\"+route) if f.startswith(\"label_map_\")]\n",
    "    lbl_list=sorted(lbl_list,key=lambda name: int(name[10:-4]))\n",
    "    \n",
    "    for de in range (0,len(lbl_list),1000):\n",
    "        Tdmlist=Dm_list[de:de+1001]\n",
    "        Titstylist=Itsty_list[de:de+1001]\n",
    "        Tlbllist=lbl_list[de:de+1001]\n",
    "        MatL= []\n",
    "        D={}\n",
    "        D[\"Traslations\"]= DltaT[de:de+1000]\n",
    "        D[\"Rotations\"]= DltaR[de:de+1000]\n",
    "        for i in range (len(Tdmlist)):\n",
    "            Dm_image = cv.imread(frames+\"/\"+route+\"/\"+Tdmlist[i])\n",
    "            Itsty_image = cv.imread(frames+\"/\"+route+\"/\"+Titstylist[i])\n",
    "            lbl_image=cv.imread(frames+\"/\"+route+\"/\"+Tlbllist[i])\n",
    "            mat=np.zeros(Dm_image.shape)\n",
    "            mat[:,:,0]=Dm_image[:,:,0]/255.0\n",
    "            mat[:,:,1]=Itsty_image[:,:,0]/255.0\n",
    "            mat[:,:,2]=lbl_image[:,:,0]\n",
    "            MatL.append(mat)\n",
    "            #print(lbl_image.shape)\n",
    "            #cv.namedWindow('ImageWindow1', cv.WINDOW_NORMAL)\n",
    "            #cv.namedWindow('ImageWindow2', cv.WINDOW_NORMAL)\n",
    "            #cv.namedWindow('ImageWindow3', cv.WINDOW_NORMAL)\n",
    "            #cv.imshow('ImageWindow1', lbl_image[:,:,0] )\n",
    "            #cv.imshow('ImageWindow2', lbl_image[:,:,1] )\n",
    "            #cv.imshow('ImageWindow3', lbl_image[:,:,2] )\n",
    "            #cv.waitKey(0)\n",
    "            #cv.destroyAllWindows()\n",
    "        D[\"depth_map\"]=np.array(MatL)\n",
    "        if (int(route)>=9):\n",
    "            np.save(\"D_test_{}.npy\".format(C2), D)\n",
    "            C2+=1\n",
    "        else:\n",
    "            np.save(\"D_train_{}.npy\".format(C), D)\n",
    "            C+=1"
   ]
  },
  {
   "cell_type": "code",
   "execution_count": 61,
   "metadata": {},
   "outputs": [],
   "source": [
    "d2=np.load(\"D_train_13.npy\", allow_pickle=True)"
   ]
  },
  {
   "cell_type": "code",
   "execution_count": 62,
   "metadata": {},
   "outputs": [
    {
     "name": "stdout",
     "output_type": "stream",
     "text": [
      "(800, 3)\n",
      "(800, 4)\n",
      "(801, 32, 360, 3)\n"
     ]
    }
   ],
   "source": [
    "print(d2[()]['Traslations'].shape)\n",
    "print(d2[()]['Rotations'].shape)\n",
    "print(d2[()]['depth_map'].shape)"
   ]
  },
  {
   "cell_type": "code",
   "execution_count": null,
   "metadata": {},
   "outputs": [],
   "source": []
  }
 ],
 "metadata": {
  "kernelspec": {
   "display_name": "Python 3",
   "language": "python",
   "name": "python3"
  },
  "language_info": {
   "codemirror_mode": {
    "name": "ipython",
    "version": 3
   },
   "file_extension": ".py",
   "mimetype": "text/x-python",
   "name": "python",
   "nbconvert_exporter": "python",
   "pygments_lexer": "ipython3",
   "version": "3.6.10"
  }
 },
 "nbformat": 4,
 "nbformat_minor": 4
}
